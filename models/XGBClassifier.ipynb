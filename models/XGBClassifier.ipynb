{
 "cells": [
  {
   "cell_type": "code",
   "execution_count": 1,
   "id": "initial_id",
   "metadata": {
    "ExecuteTime": {
     "end_time": "2025-03-25T15:39:53.103756Z",
     "start_time": "2025-03-25T15:39:53.098861Z"
    }
   },
   "outputs": [
    {
     "ename": "ModuleNotFoundError",
     "evalue": "No module named 'xgboost'",
     "output_type": "error",
     "traceback": [
      "\u001b[1;31m---------------------------------------------------------------------------\u001b[0m",
      "\u001b[1;31mModuleNotFoundError\u001b[0m                       Traceback (most recent call last)",
      "Cell \u001b[1;32mIn[1], line 5\u001b[0m\n\u001b[0;32m      3\u001b[0m \u001b[38;5;28;01mfrom\u001b[39;00m \u001b[38;5;21;01msklearn\u001b[39;00m\u001b[38;5;21;01m.\u001b[39;00m\u001b[38;5;21;01mmodel_selection\u001b[39;00m \u001b[38;5;28;01mimport\u001b[39;00m train_test_split\n\u001b[0;32m      4\u001b[0m \u001b[38;5;28;01mfrom\u001b[39;00m \u001b[38;5;21;01msklearn\u001b[39;00m\u001b[38;5;21;01m.\u001b[39;00m\u001b[38;5;21;01mpreprocessing\u001b[39;00m \u001b[38;5;28;01mimport\u001b[39;00m StandardScaler\n\u001b[1;32m----> 5\u001b[0m \u001b[38;5;28;01mfrom\u001b[39;00m \u001b[38;5;21;01mxgboost\u001b[39;00m \u001b[38;5;28;01mimport\u001b[39;00m XGBClassifier\n\u001b[0;32m      6\u001b[0m \u001b[38;5;28;01mfrom\u001b[39;00m \u001b[38;5;21;01msklearn\u001b[39;00m\u001b[38;5;21;01m.\u001b[39;00m\u001b[38;5;21;01mmetrics\u001b[39;00m \u001b[38;5;28;01mimport\u001b[39;00m accuracy_score\n\u001b[0;32m      7\u001b[0m \u001b[38;5;28;01mimport\u001b[39;00m \u001b[38;5;21;01mjoblib\u001b[39;00m\n",
      "\u001b[1;31mModuleNotFoundError\u001b[0m: No module named 'xgboost'"
     ]
    }
   ],
   "source": [
    "import pandas as pd\n",
    "\n",
    "from sklearn.model_selection import train_test_split\n",
    "from sklearn.preprocessing import StandardScaler\n",
    "from xgboost import XGBClassifier\n",
    "from sklearn.metrics import accuracy_score\n",
    "import joblib"
   ]
  },
  {
   "cell_type": "code",
   "execution_count": null,
   "id": "b9e47bf95c08dfa8",
   "metadata": {
    "ExecuteTime": {
     "end_time": "2025-03-25T15:39:53.179674Z",
     "start_time": "2025-03-25T15:39:53.160058Z"
    }
   },
   "outputs": [],
   "source": [
    "df = pd.read_csv(\"data/clean_TAIPEI_diabetes.csv\")"
   ]
  },
  {
   "cell_type": "markdown",
   "id": "dfaf5799452e9603",
   "metadata": {},
   "source": [
    "#### Check data structure"
   ]
  },
  {
   "cell_type": "code",
   "execution_count": 21,
   "id": "64855ee0e6e969de",
   "metadata": {
    "ExecuteTime": {
     "end_time": "2025-03-25T15:39:53.219796Z",
     "start_time": "2025-03-25T15:39:53.210344Z"
    }
   },
   "outputs": [
    {
     "name": "stdout",
     "output_type": "stream",
     "text": [
      "   PatientID  Pregnancies  PlasmaGlucose  DiastolicBloodPressure  \\\n",
      "0    1424119            1             85                      59   \n",
      "1    1619297            0             82                      92   \n",
      "2    1660149            0            133                      47   \n",
      "3    1458769            0             67                      87   \n",
      "4    1201647            8             80                      95   \n",
      "\n",
      "   TricepsThickness  SerumInsulin        BMI  DiabetesPedigree  Age  Diabetic  \n",
      "0                27            35  42.604536          0.549542   22         0  \n",
      "1                 9           253  19.724160          0.103424   26         0  \n",
      "2                19           227  21.941357          0.174160   21         0  \n",
      "3                43            36  18.277723          0.236165   26         0  \n",
      "4                33            24  26.624929          0.443947   53         1  \n"
     ]
    }
   ],
   "source": [
    "print(df.head())"
   ]
  },
  {
   "cell_type": "code",
   "execution_count": 22,
   "id": "a20dcf2eb8d4dec2",
   "metadata": {
    "ExecuteTime": {
     "end_time": "2025-03-25T15:39:53.358237Z",
     "start_time": "2025-03-25T15:39:53.346168Z"
    }
   },
   "outputs": [
    {
     "name": "stdout",
     "output_type": "stream",
     "text": [
      "<class 'pandas.core.frame.DataFrame'>\n",
      "RangeIndex: 10471 entries, 0 to 10470\n",
      "Data columns (total 10 columns):\n",
      " #   Column                  Non-Null Count  Dtype  \n",
      "---  ------                  --------------  -----  \n",
      " 0   PatientID               10471 non-null  int64  \n",
      " 1   Pregnancies             10471 non-null  int64  \n",
      " 2   PlasmaGlucose           10471 non-null  int64  \n",
      " 3   DiastolicBloodPressure  10471 non-null  int64  \n",
      " 4   TricepsThickness        10471 non-null  int64  \n",
      " 5   SerumInsulin            10471 non-null  int64  \n",
      " 6   BMI                     10471 non-null  float64\n",
      " 7   DiabetesPedigree        10471 non-null  float64\n",
      " 8   Age                     10471 non-null  int64  \n",
      " 9   Diabetic                10471 non-null  int64  \n",
      "dtypes: float64(2), int64(8)\n",
      "memory usage: 818.2 KB\n",
      "None\n"
     ]
    }
   ],
   "source": [
    "print(df.info())"
   ]
  },
  {
   "cell_type": "code",
   "execution_count": 23,
   "id": "fbe950632ccf2ec8",
   "metadata": {
    "ExecuteTime": {
     "end_time": "2025-03-25T15:39:53.469174Z",
     "start_time": "2025-03-25T15:39:53.432501Z"
    }
   },
   "outputs": [
    {
     "name": "stdout",
     "output_type": "stream",
     "text": [
      "          PatientID   Pregnancies  PlasmaGlucose  DiastolicBloodPressure  \\\n",
      "count  1.047100e+04  10471.000000   10471.000000            10471.000000   \n",
      "mean   1.504674e+06      2.127781     105.799351               71.108968   \n",
      "std    2.880059e+05      2.789957      30.883445               16.425644   \n",
      "min    1.000069e+06      0.000000      44.000000               31.000000   \n",
      "25%    1.256644e+06      0.000000      83.000000               57.000000   \n",
      "50%    1.507697e+06      1.000000     103.000000               72.000000   \n",
      "75%    1.754544e+06      3.000000     127.000000               85.000000   \n",
      "max    1.999997e+06     14.000000     174.000000              112.000000   \n",
      "\n",
      "       TricepsThickness  SerumInsulin           BMI  DiabetesPedigree  \\\n",
      "count      10471.000000  10471.000000  10471.000000      10471.000000   \n",
      "mean          28.405119    108.896953     31.272642          0.332687   \n",
      "std           14.163763     86.627196      9.882741          0.270481   \n",
      "min            7.000000     14.000000     18.200512          0.078044   \n",
      "25%           15.000000     36.000000     21.092800          0.134919   \n",
      "50%           31.000000     72.000000     31.609822          0.190197   \n",
      "75%           41.000000    175.000000     39.290206          0.525669   \n",
      "max           57.000000    350.000000     56.034628          1.067497   \n",
      "\n",
      "                Age      Diabetic  \n",
      "count  10471.000000  10471.000000  \n",
      "mean      31.298443      0.264922  \n",
      "std       12.466361      0.441313  \n",
      "min       21.000000      0.000000  \n",
      "25%       22.000000      0.000000  \n",
      "50%       25.000000      0.000000  \n",
      "75%       38.000000      1.000000  \n",
      "max       77.000000      1.000000  \n"
     ]
    }
   ],
   "source": [
    "print(df.describe())"
   ]
  },
  {
   "cell_type": "markdown",
   "id": "ef5f25b3cd9ec3b2",
   "metadata": {},
   "source": [
    "#### Check missing values"
   ]
  },
  {
   "cell_type": "code",
   "execution_count": 24,
   "id": "d3cbc8207ddd94be",
   "metadata": {
    "ExecuteTime": {
     "end_time": "2025-03-25T15:39:53.501870Z",
     "start_time": "2025-03-25T15:39:53.495723Z"
    }
   },
   "outputs": [
    {
     "name": "stdout",
     "output_type": "stream",
     "text": [
      "PatientID                 0\n",
      "Pregnancies               0\n",
      "PlasmaGlucose             0\n",
      "DiastolicBloodPressure    0\n",
      "TricepsThickness          0\n",
      "SerumInsulin              0\n",
      "BMI                       0\n",
      "DiabetesPedigree          0\n",
      "Age                       0\n",
      "Diabetic                  0\n",
      "dtype: int64\n"
     ]
    }
   ],
   "source": [
    "print(df.isnull().sum())"
   ]
  },
  {
   "cell_type": "code",
   "execution_count": 25,
   "id": "e7bc8dca74d5ecf2",
   "metadata": {
    "ExecuteTime": {
     "end_time": "2025-03-25T15:39:53.557348Z",
     "start_time": "2025-03-25T15:39:53.549881Z"
    }
   },
   "outputs": [],
   "source": [
    "# Split into X (features) and y (target variable)\n",
    "X = df.drop(columns=[\"PatientID\", \"Diabetic\"])\n",
    "y = df[\"Diabetic\"]"
   ]
  },
  {
   "cell_type": "code",
   "execution_count": 26,
   "id": "25a811473433ef27",
   "metadata": {
    "ExecuteTime": {
     "end_time": "2025-03-25T15:39:53.615107Z",
     "start_time": "2025-03-25T15:39:53.606413Z"
    }
   },
   "outputs": [],
   "source": [
    "# Split into train and test (80% - train, 20% - test)\n",
    "X_train, X_test, y_train, y_test = train_test_split(X, y, test_size=0.2, random_state=42)"
   ]
  },
  {
   "cell_type": "code",
   "execution_count": 27,
   "id": "921ab25f54ef3d1b",
   "metadata": {
    "ExecuteTime": {
     "end_time": "2025-03-25T15:39:53.672187Z",
     "start_time": "2025-03-25T15:39:53.660733Z"
    }
   },
   "outputs": [],
   "source": [
    "# Scale data\n",
    "scaler = StandardScaler()\n",
    "X_train = scaler.fit_transform(X_train)\n",
    "X_test = scaler.transform(X_test)"
   ]
  },
  {
   "cell_type": "code",
   "execution_count": 28,
   "id": "408343221665d85f",
   "metadata": {
    "ExecuteTime": {
     "end_time": "2025-03-25T15:39:53.727514Z",
     "start_time": "2025-03-25T15:39:53.719145Z"
    }
   },
   "outputs": [
    {
     "data": {
      "text/plain": [
       "['../storage/models/scaler.pkl']"
      ]
     },
     "execution_count": 28,
     "metadata": {},
     "output_type": "execute_result"
    }
   ],
   "source": [
    "joblib.dump(scaler, \"../storage/models/scaler.pkl\")"
   ]
  },
  {
   "cell_type": "code",
   "execution_count": 29,
   "id": "be486287c0534841",
   "metadata": {
    "ExecuteTime": {
     "end_time": "2025-03-25T15:39:54.010255Z",
     "start_time": "2025-03-25T15:39:53.779002Z"
    }
   },
   "outputs": [],
   "source": [
    "xgb_model = XGBClassifier()\n",
    "xgb_model.fit(X_train, y_train)\n",
    "y_pred = xgb_model.predict(X_test)\n",
    "accuracy = accuracy_score(y_test, y_pred)"
   ]
  },
  {
   "cell_type": "code",
   "execution_count": 30,
   "id": "a969f9824d20e44",
   "metadata": {
    "ExecuteTime": {
     "end_time": "2025-03-25T15:39:54.063276Z",
     "start_time": "2025-03-25T15:39:54.046760Z"
    }
   },
   "outputs": [
    {
     "data": {
      "text/plain": [
       "['../storage/models/xgb_model.pkl']"
      ]
     },
     "execution_count": 30,
     "metadata": {},
     "output_type": "execute_result"
    }
   ],
   "source": [
    "joblib.dump(xgb_model, \"../storage/models/xgb_model.pkl\")"
   ]
  }
 ],
 "metadata": {
  "kernelspec": {
   "display_name": "Python 3 (ipykernel)",
   "language": "python",
   "name": "python3"
  },
  "language_info": {
   "codemirror_mode": {
    "name": "ipython",
    "version": 3
   },
   "file_extension": ".py",
   "mimetype": "text/x-python",
   "name": "python",
   "nbconvert_exporter": "python",
   "pygments_lexer": "ipython3",
   "version": "3.12.4"
  }
 },
 "nbformat": 4,
 "nbformat_minor": 5
}
