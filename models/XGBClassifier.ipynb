{
 "cells": [
  {
   "cell_type": "code",
   "id": "initial_id",
   "metadata": {
    "ExecuteTime": {
     "end_time": "2025-03-28T19:47:31.799584Z",
     "start_time": "2025-03-28T19:47:31.028110Z"
    }
   },
   "source": [
    "import pandas as pd\n",
    "\n",
    "from sklearn.model_selection import train_test_split\n",
    "from sklearn.preprocessing import StandardScaler\n",
    "from xgboost import XGBClassifier\n",
    "from sklearn.metrics import accuracy_score\n",
    "import joblib"
   ],
   "outputs": [],
   "execution_count": 1
  },
  {
   "cell_type": "code",
   "id": "b9e47bf95c08dfa8",
   "metadata": {
    "ExecuteTime": {
     "end_time": "2025-03-28T19:47:31.820411Z",
     "start_time": "2025-03-28T19:47:31.806028Z"
    }
   },
   "source": [
    "df = pd.read_csv(\"data/clean_TAIPEI_diabetes.csv\")"
   ],
   "outputs": [],
   "execution_count": 2
  },
  {
   "cell_type": "markdown",
   "id": "dfaf5799452e9603",
   "metadata": {},
   "source": [
    "#### Check data structure"
   ]
  },
  {
   "cell_type": "code",
   "id": "64855ee0e6e969de",
   "metadata": {
    "ExecuteTime": {
     "end_time": "2025-03-28T19:47:31.924202Z",
     "start_time": "2025-03-28T19:47:31.919809Z"
    }
   },
   "source": [
    "print(df.head())"
   ],
   "outputs": [
    {
     "name": "stdout",
     "output_type": "stream",
     "text": [
      "   PatientID  Pregnancies  PlasmaGlucose  DiastolicBloodPressure  \\\n",
      "0    1424119            1             85                      59   \n",
      "1    1619297            0             82                      92   \n",
      "2    1660149            0            133                      47   \n",
      "3    1458769            0             67                      87   \n",
      "4    1201647            8             80                      95   \n",
      "\n",
      "   TricepsThickness  SerumInsulin        BMI  DiabetesPedigree  Age  Diabetic  \n",
      "0                27            35  42.604536          0.549542   22         0  \n",
      "1                 9           253  19.724160          0.103424   26         0  \n",
      "2                19           227  21.941357          0.174160   21         0  \n",
      "3                43            36  18.277723          0.236165   26         0  \n",
      "4                33            24  26.624929          0.443947   53         1  \n"
     ]
    }
   ],
   "execution_count": 3
  },
  {
   "cell_type": "code",
   "id": "a20dcf2eb8d4dec2",
   "metadata": {
    "ExecuteTime": {
     "end_time": "2025-03-28T19:47:32.040854Z",
     "start_time": "2025-03-28T19:47:32.028619Z"
    }
   },
   "source": [
    "print(df.info())"
   ],
   "outputs": [
    {
     "name": "stdout",
     "output_type": "stream",
     "text": [
      "<class 'pandas.core.frame.DataFrame'>\n",
      "RangeIndex: 10471 entries, 0 to 10470\n",
      "Data columns (total 10 columns):\n",
      " #   Column                  Non-Null Count  Dtype  \n",
      "---  ------                  --------------  -----  \n",
      " 0   PatientID               10471 non-null  int64  \n",
      " 1   Pregnancies             10471 non-null  int64  \n",
      " 2   PlasmaGlucose           10471 non-null  int64  \n",
      " 3   DiastolicBloodPressure  10471 non-null  int64  \n",
      " 4   TricepsThickness        10471 non-null  int64  \n",
      " 5   SerumInsulin            10471 non-null  int64  \n",
      " 6   BMI                     10471 non-null  float64\n",
      " 7   DiabetesPedigree        10471 non-null  float64\n",
      " 8   Age                     10471 non-null  int64  \n",
      " 9   Diabetic                10471 non-null  int64  \n",
      "dtypes: float64(2), int64(8)\n",
      "memory usage: 818.2 KB\n",
      "None\n"
     ]
    }
   ],
   "execution_count": 4
  },
  {
   "cell_type": "code",
   "id": "fbe950632ccf2ec8",
   "metadata": {
    "ExecuteTime": {
     "end_time": "2025-03-28T19:47:32.103867Z",
     "start_time": "2025-03-28T19:47:32.083431Z"
    }
   },
   "source": [
    "print(df.describe())"
   ],
   "outputs": [
    {
     "name": "stdout",
     "output_type": "stream",
     "text": [
      "          PatientID   Pregnancies  PlasmaGlucose  DiastolicBloodPressure  \\\n",
      "count  1.047100e+04  10471.000000   10471.000000            10471.000000   \n",
      "mean   1.504674e+06      2.127781     105.799351               71.108968   \n",
      "std    2.880059e+05      2.789957      30.883445               16.425644   \n",
      "min    1.000069e+06      0.000000      44.000000               31.000000   \n",
      "25%    1.256644e+06      0.000000      83.000000               57.000000   \n",
      "50%    1.507697e+06      1.000000     103.000000               72.000000   \n",
      "75%    1.754544e+06      3.000000     127.000000               85.000000   \n",
      "max    1.999997e+06     14.000000     174.000000              112.000000   \n",
      "\n",
      "       TricepsThickness  SerumInsulin           BMI  DiabetesPedigree  \\\n",
      "count      10471.000000  10471.000000  10471.000000      10471.000000   \n",
      "mean          28.405119    108.896953     31.272642          0.332687   \n",
      "std           14.163763     86.627196      9.882741          0.270481   \n",
      "min            7.000000     14.000000     18.200512          0.078044   \n",
      "25%           15.000000     36.000000     21.092800          0.134919   \n",
      "50%           31.000000     72.000000     31.609822          0.190197   \n",
      "75%           41.000000    175.000000     39.290206          0.525669   \n",
      "max           57.000000    350.000000     56.034628          1.067497   \n",
      "\n",
      "                Age      Diabetic  \n",
      "count  10471.000000  10471.000000  \n",
      "mean      31.298443      0.264922  \n",
      "std       12.466361      0.441313  \n",
      "min       21.000000      0.000000  \n",
      "25%       22.000000      0.000000  \n",
      "50%       25.000000      0.000000  \n",
      "75%       38.000000      1.000000  \n",
      "max       77.000000      1.000000  \n"
     ]
    }
   ],
   "execution_count": 5
  },
  {
   "cell_type": "markdown",
   "id": "ef5f25b3cd9ec3b2",
   "metadata": {},
   "source": [
    "#### Check missing values"
   ]
  },
  {
   "cell_type": "code",
   "id": "d3cbc8207ddd94be",
   "metadata": {
    "ExecuteTime": {
     "end_time": "2025-03-28T19:47:32.139688Z",
     "start_time": "2025-03-28T19:47:32.135980Z"
    }
   },
   "source": [
    "print(df.isnull().sum())"
   ],
   "outputs": [
    {
     "name": "stdout",
     "output_type": "stream",
     "text": [
      "PatientID                 0\n",
      "Pregnancies               0\n",
      "PlasmaGlucose             0\n",
      "DiastolicBloodPressure    0\n",
      "TricepsThickness          0\n",
      "SerumInsulin              0\n",
      "BMI                       0\n",
      "DiabetesPedigree          0\n",
      "Age                       0\n",
      "Diabetic                  0\n",
      "dtype: int64\n"
     ]
    }
   ],
   "execution_count": 6
  },
  {
   "cell_type": "code",
   "id": "e7bc8dca74d5ecf2",
   "metadata": {
    "ExecuteTime": {
     "end_time": "2025-03-28T19:47:32.192730Z",
     "start_time": "2025-03-28T19:47:32.187403Z"
    }
   },
   "source": [
    "# Split into X (features) and y (target variable)\n",
    "X = df.drop(columns=[\"PatientID\", \"Diabetic\"])\n",
    "y = df[\"Diabetic\"]"
   ],
   "outputs": [],
   "execution_count": 7
  },
  {
   "cell_type": "code",
   "id": "25a811473433ef27",
   "metadata": {
    "ExecuteTime": {
     "end_time": "2025-03-28T19:47:32.244360Z",
     "start_time": "2025-03-28T19:47:32.238051Z"
    }
   },
   "source": [
    "# Split into train and test (80% - train, 20% - test)\n",
    "X_train, X_test, y_train, y_test = train_test_split(X, y, test_size=0.2, random_state=42)"
   ],
   "outputs": [],
   "execution_count": 8
  },
  {
   "cell_type": "code",
   "id": "921ab25f54ef3d1b",
   "metadata": {
    "ExecuteTime": {
     "end_time": "2025-03-28T19:47:32.299071Z",
     "start_time": "2025-03-28T19:47:32.288692Z"
    }
   },
   "source": [
    "# Scale data\n",
    "scaler = StandardScaler()\n",
    "X_train = scaler.fit_transform(X_train)\n",
    "X_test = scaler.transform(X_test)"
   ],
   "outputs": [],
   "execution_count": 9
  },
  {
   "cell_type": "code",
   "id": "408343221665d85f",
   "metadata": {
    "ExecuteTime": {
     "end_time": "2025-03-28T19:47:32.350087Z",
     "start_time": "2025-03-28T19:47:32.342864Z"
    }
   },
   "source": [
    "joblib.dump(scaler, \"../storage/models/scaler.pkl\")"
   ],
   "outputs": [
    {
     "data": {
      "text/plain": [
       "['../storage/models/scaler.pkl']"
      ]
     },
     "execution_count": 10,
     "metadata": {},
     "output_type": "execute_result"
    }
   ],
   "execution_count": 10
  },
  {
   "cell_type": "code",
   "id": "be486287c0534841",
   "metadata": {
    "ExecuteTime": {
     "end_time": "2025-03-28T19:47:32.530085Z",
     "start_time": "2025-03-28T19:47:32.394679Z"
    }
   },
   "source": [
    "xgb_model = XGBClassifier()\n",
    "xgb_model.fit(X_train, y_train)\n",
    "y_pred = xgb_model.predict(X_test)"
   ],
   "outputs": [],
   "execution_count": 11
  },
  {
   "metadata": {
    "ExecuteTime": {
     "end_time": "2025-03-28T19:47:32.913741Z",
     "start_time": "2025-03-28T19:47:32.544297Z"
    }
   },
   "cell_type": "code",
   "source": [
    "from matplotlib import pyplot as plt\n",
    "from sklearn.metrics import confusion_matrix, classification_report, roc_auc_score, roc_curve\n",
    "\n",
    "accuracy = accuracy_score(y_test, y_pred)\n",
    "print(\"Accuracy:\", round(accuracy * 100, 2), \"%\")"
   ],
   "id": "b5c46fc05064032b",
   "outputs": [
    {
     "name": "stdout",
     "output_type": "stream",
     "text": [
      "Accuracy: 96.13 %\n"
     ]
    }
   ],
   "execution_count": 12
  },
  {
   "metadata": {
    "ExecuteTime": {
     "end_time": "2025-03-28T19:47:32.931211Z",
     "start_time": "2025-03-28T19:47:32.926882Z"
    }
   },
   "cell_type": "code",
   "source": [
    "conf_matrix = confusion_matrix(y_test, y_pred)\n",
    "print(\"Confusion Matrix:\\n\", conf_matrix)"
   ],
   "id": "b88900049d3945",
   "outputs": [
    {
     "name": "stdout",
     "output_type": "stream",
     "text": [
      "Confusion Matrix:\n",
      " [[1505   32]\n",
      " [  49  509]]\n"
     ]
    }
   ],
   "execution_count": 13
  },
  {
   "metadata": {
    "ExecuteTime": {
     "end_time": "2025-03-28T19:47:32.984240Z",
     "start_time": "2025-03-28T19:47:32.975697Z"
    }
   },
   "cell_type": "code",
   "source": [
    "report = classification_report(y_test, y_pred)\n",
    "print(\"Classification Report:\\n\", report)"
   ],
   "id": "7783a4ba218fdfcc",
   "outputs": [
    {
     "name": "stdout",
     "output_type": "stream",
     "text": [
      "Classification Report:\n",
      "               precision    recall  f1-score   support\n",
      "\n",
      "           0       0.97      0.98      0.97      1537\n",
      "           1       0.94      0.91      0.93       558\n",
      "\n",
      "    accuracy                           0.96      2095\n",
      "   macro avg       0.95      0.95      0.95      2095\n",
      "weighted avg       0.96      0.96      0.96      2095\n",
      "\n"
     ]
    }
   ],
   "execution_count": 14
  },
  {
   "metadata": {
    "ExecuteTime": {
     "end_time": "2025-03-28T19:47:33.032063Z",
     "start_time": "2025-03-28T19:47:33.025959Z"
    }
   },
   "cell_type": "code",
   "source": [
    "roc_auc = roc_auc_score(y_test, y_pred)\n",
    "print(\"ROC AUC Score:\", round(roc_auc, 4))"
   ],
   "id": "4954abb7c05a13a3",
   "outputs": [
    {
     "name": "stdout",
     "output_type": "stream",
     "text": [
      "ROC AUC Score: 0.9457\n"
     ]
    }
   ],
   "execution_count": 15
  },
  {
   "metadata": {
    "ExecuteTime": {
     "end_time": "2025-03-28T19:47:33.082434Z",
     "start_time": "2025-03-28T19:47:33.077582Z"
    }
   },
   "cell_type": "code",
   "source": [
    "## the ROC Curve\n",
    "fpr, tpr, thresholds = roc_curve(y_test, y_pred)"
   ],
   "id": "7944ff21b7f04026",
   "outputs": [],
   "execution_count": 16
  },
  {
   "metadata": {
    "ExecuteTime": {
     "end_time": "2025-03-28T19:47:33.326363Z",
     "start_time": "2025-03-28T19:47:33.128313Z"
    }
   },
   "cell_type": "code",
   "source": [
    "plt.figure(figsize=(8, 6))\n",
    "plt.plot(fpr, tpr, label=f\"ROC Curve (AUC = {roc_auc:.2f})\", linewidth=2)\n",
    "plt.plot([0, 1], [0, 1], 'k--', label=\"Random Guessing\")\n",
    "plt.xlabel(\"False Positive Rate\")\n",
    "plt.ylabel(\"True Positive Rate\")\n",
    "plt.title(\"ROC Curve - Random Forest Classifier\")\n",
    "plt.legend(loc=\"lower right\")\n",
    "plt.grid(True)\n",
    "plt.show()"
   ],
   "id": "14769bd5d146a394",
   "outputs": [
    {
     "data": {
      "text/plain": [
       "<Figure size 800x600 with 1 Axes>"
      ],
      "image/png": "[encoded data removed]"
     },
     "metadata": {},
     "output_type": "display_data"
    }
   ],
   "execution_count": 17
  },
  {
   "metadata": {
    "ExecuteTime": {
     "end_time": "2025-03-28T19:47:33.371337Z",
     "start_time": "2025-03-28T19:47:33.356225Z"
    }
   },
   "cell_type": "code",
   "source": [
    "print(\"Accuracy:\", accuracy_score(y_test, y_pred))\n",
    "print(\"Confusion Matrix:\\n\", confusion_matrix(y_test, y_pred))\n",
    "print(\"Classification Report:\\n\", classification_report(y_test, y_pred))\n",
    "print(\"ROC AUC Score:\", roc_auc_score(y_test, y_pred))\n",
    "print(\"F1 Score:\", roc_auc_score(y_test, y_pred))"
   ],
   "id": "6f85512eeb6e9317",
   "outputs": [
    {
     "name": "stdout",
     "output_type": "stream",
     "text": [
      "Accuracy: 0.9613365155131265\n",
      "Confusion Matrix:\n",
      " [[1505   32]\n",
      " [  49  509]]\n",
      "Classification Report:\n",
      "               precision    recall  f1-score   support\n",
      "\n",
      "           0       0.97      0.98      0.97      1537\n",
      "           1       0.94      0.91      0.93       558\n",
      "\n",
      "    accuracy                           0.96      2095\n",
      "   macro avg       0.95      0.95      0.95      2095\n",
      "weighted avg       0.96      0.96      0.96      2095\n",
      "\n",
      "ROC AUC Score: 0.9456833005692326\n",
      "F1 Score: 0.9456833005692326\n"
     ]
    }
   ],
   "execution_count": 18
  },
  {
   "cell_type": "code",
   "id": "a969f9824d20e44",
   "metadata": {
    "ExecuteTime": {
     "end_time": "2025-03-28T19:47:33.420091Z",
     "start_time": "2025-03-28T19:47:33.405745Z"
    }
   },
   "source": [
    "joblib.dump(xgb_model, \"../storage/models/xgb_model.pkl\")"
   ],
   "outputs": [
    {
     "data": {
      "text/plain": [
       "['../storage/models/xgb_model.pkl']"
      ]
     },
     "execution_count": 19,
     "metadata": {},
     "output_type": "execute_result"
    }
   ],
   "execution_count": 19
  }
 ],
 "metadata": {
  "kernelspec": {
   "display_name": "Python 3 (ipykernel)",
   "language": "python",
   "name": "python3"
  },
  "language_info": {
   "codemirror_mode": {
    "name": "ipython",
    "version": 3
   },
   "file_extension": ".py",
   "mimetype": "text/x-python",
   "name": "python",
   "nbconvert_exporter": "python",
   "pygments_lexer": "ipython3",
   "version": "3.12.4"
  }
 },
 "nbformat": 4,
 "nbformat_minor": 5
}
