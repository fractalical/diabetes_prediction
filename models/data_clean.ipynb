{
 "cells": [
  {
   "cell_type": "code",
   "id": "50c2ed2a-0cac-49aa-b638-329f001ef345",
   "metadata": {
    "ExecuteTime": {
     "end_time": "2025-03-23T18:16:00.294423Z",
     "start_time": "2025-03-23T18:16:00.290795Z"
    }
   },
   "source": [
    "import pandas as pd"
   ],
   "outputs": [],
   "execution_count": 34
  },
  {
   "cell_type": "code",
   "id": "d8707e5f-7d6f-44e2-88ce-28386cae3001",
   "metadata": {
    "ExecuteTime": {
     "end_time": "2025-03-23T18:16:00.361603Z",
     "start_time": "2025-03-23T18:16:00.339978Z"
    }
   },
   "source": "df= pd.read_csv('data/TAIPEI_diabetes.csv')",
   "outputs": [],
   "execution_count": 35
  },
  {
   "cell_type": "code",
   "id": "28720afd-98d4-4113-a1f1-4aa62c53726e",
   "metadata": {
    "ExecuteTime": {
     "end_time": "2025-03-23T18:16:00.410413Z",
     "start_time": "2025-03-23T18:16:00.395746Z"
    }
   },
   "source": [
    "print (df.info())"
   ],
   "outputs": [
    {
     "name": "stdout",
     "output_type": "stream",
     "text": [
      "<class 'pandas.core.frame.DataFrame'>\n",
      "RangeIndex: 15000 entries, 0 to 14999\n",
      "Data columns (total 10 columns):\n",
      " #   Column                  Non-Null Count  Dtype  \n",
      "---  ------                  --------------  -----  \n",
      " 0   PatientID               15000 non-null  int64  \n",
      " 1   Pregnancies             15000 non-null  int64  \n",
      " 2   PlasmaGlucose           15000 non-null  int64  \n",
      " 3   DiastolicBloodPressure  15000 non-null  int64  \n",
      " 4   TricepsThickness        15000 non-null  int64  \n",
      " 5   SerumInsulin            15000 non-null  int64  \n",
      " 6   BMI                     15000 non-null  float64\n",
      " 7   DiabetesPedigree        15000 non-null  float64\n",
      " 8   Age                     15000 non-null  int64  \n",
      " 9   Diabetic                15000 non-null  int64  \n",
      "dtypes: float64(2), int64(8)\n",
      "memory usage: 1.1 MB\n",
      "None\n"
     ]
    }
   ],
   "execution_count": 36
  },
  {
   "cell_type": "code",
   "id": "8c852b1d-5f5c-44c3-90cc-85647439cd25",
   "metadata": {
    "ExecuteTime": {
     "end_time": "2025-03-23T18:16:00.541302Z",
     "start_time": "2025-03-23T18:16:00.533861Z"
    }
   },
   "source": [
    "print ( df.isnull().sum())"
   ],
   "outputs": [
    {
     "name": "stdout",
     "output_type": "stream",
     "text": [
      "PatientID                 0\n",
      "Pregnancies               0\n",
      "PlasmaGlucose             0\n",
      "DiastolicBloodPressure    0\n",
      "TricepsThickness          0\n",
      "SerumInsulin              0\n",
      "BMI                       0\n",
      "DiabetesPedigree          0\n",
      "Age                       0\n",
      "Diabetic                  0\n",
      "dtype: int64\n"
     ]
    }
   ],
   "execution_count": 37
  },
  {
   "cell_type": "code",
   "id": "2d344fb5-4358-486a-b41d-c4d1646c705b",
   "metadata": {
    "ExecuteTime": {
     "end_time": "2025-03-23T18:16:00.715793Z",
     "start_time": "2025-03-23T18:16:00.678658Z"
    }
   },
   "source": [
    "print (df.describe())"
   ],
   "outputs": [
    {
     "name": "stdout",
     "output_type": "stream",
     "text": [
      "          PatientID   Pregnancies  PlasmaGlucose  DiastolicBloodPressure  \\\n",
      "count  1.500000e+04  15000.000000   15000.000000            15000.000000   \n",
      "mean   1.502922e+06      3.224533     107.856867               71.220667   \n",
      "std    2.892534e+05      3.391020      31.981975               16.758716   \n",
      "min    1.000038e+06      0.000000      44.000000               24.000000   \n",
      "25%    1.252866e+06      0.000000      84.000000               58.000000   \n",
      "50%    1.505508e+06      2.000000     104.000000               72.000000   \n",
      "75%    1.755205e+06      6.000000     129.000000               85.000000   \n",
      "max    1.999997e+06     14.000000     192.000000              117.000000   \n",
      "\n",
      "       TricepsThickness  SerumInsulin           BMI  DiabetesPedigree  \\\n",
      "count      15000.000000  15000.000000  15000.000000      15000.000000   \n",
      "mean          28.814000    137.852133     31.509646          0.398968   \n",
      "std           14.555716    133.068252      9.759000          0.377944   \n",
      "min            7.000000     14.000000     18.200512          0.078044   \n",
      "25%           15.000000     39.000000     21.259887          0.137743   \n",
      "50%           31.000000     83.000000     31.767940          0.200297   \n",
      "75%           41.000000    195.000000     39.259692          0.616285   \n",
      "max           93.000000    799.000000     56.034628          2.301594   \n",
      "\n",
      "                Age      Diabetic  \n",
      "count  15000.000000  15000.000000  \n",
      "mean      30.137733      0.333333  \n",
      "std       12.089703      0.471420  \n",
      "min       21.000000      0.000000  \n",
      "25%       22.000000      0.000000  \n",
      "50%       24.000000      0.000000  \n",
      "75%       35.000000      1.000000  \n",
      "max       77.000000      1.000000  \n"
     ]
    }
   ],
   "execution_count": 38
  },
  {
   "cell_type": "code",
   "id": "af4bf27a-17bf-4e12-95ca-bb5f0596f65e",
   "metadata": {
    "ExecuteTime": {
     "end_time": "2025-03-23T18:16:00.765971Z",
     "start_time": "2025-03-23T18:16:00.754727Z"
    }
   },
   "source": [
    "df.duplicated().sum()"
   ],
   "outputs": [
    {
     "data": {
      "text/plain": [
       "np.int64(0)"
      ]
     },
     "execution_count": 39,
     "metadata": {},
     "output_type": "execute_result"
    }
   ],
   "execution_count": 39
  },
  {
   "metadata": {
    "ExecuteTime": {
     "end_time": "2025-03-23T18:16:00.817838Z",
     "start_time": "2025-03-23T18:16:00.812877Z"
    }
   },
   "cell_type": "code",
   "source": "df_cleaned=df.copy()",
   "id": "dbe05d5573508af1",
   "outputs": [],
   "execution_count": 40
  },
  {
   "cell_type": "code",
   "id": "7b194f96-02b5-4fea-8747-27443247bc84",
   "metadata": {
    "ExecuteTime": {
     "end_time": "2025-03-23T18:16:00.878323Z",
     "start_time": "2025-03-23T18:16:00.866231Z"
    }
   },
   "source": "print (df_cleaned.info())",
   "outputs": [
    {
     "name": "stdout",
     "output_type": "stream",
     "text": [
      "<class 'pandas.core.frame.DataFrame'>\n",
      "RangeIndex: 15000 entries, 0 to 14999\n",
      "Data columns (total 10 columns):\n",
      " #   Column                  Non-Null Count  Dtype  \n",
      "---  ------                  --------------  -----  \n",
      " 0   PatientID               15000 non-null  int64  \n",
      " 1   Pregnancies             15000 non-null  int64  \n",
      " 2   PlasmaGlucose           15000 non-null  int64  \n",
      " 3   DiastolicBloodPressure  15000 non-null  int64  \n",
      " 4   TricepsThickness        15000 non-null  int64  \n",
      " 5   SerumInsulin            15000 non-null  int64  \n",
      " 6   BMI                     15000 non-null  float64\n",
      " 7   DiabetesPedigree        15000 non-null  float64\n",
      " 8   Age                     15000 non-null  int64  \n",
      " 9   Diabetic                15000 non-null  int64  \n",
      "dtypes: float64(2), int64(8)\n",
      "memory usage: 1.1 MB\n",
      "None\n"
     ]
    }
   ],
   "execution_count": 41
  },
  {
   "cell_type": "code",
   "id": "7e09f97e-d832-4374-93de-9fad78d4a65a",
   "metadata": {
    "ExecuteTime": {
     "end_time": "2025-03-23T18:16:00.964186Z",
     "start_time": "2025-03-23T18:16:00.933715Z"
    }
   },
   "source": "print (df_cleaned.describe())",
   "outputs": [
    {
     "name": "stdout",
     "output_type": "stream",
     "text": [
      "          PatientID   Pregnancies  PlasmaGlucose  DiastolicBloodPressure  \\\n",
      "count  1.500000e+04  15000.000000   15000.000000            15000.000000   \n",
      "mean   1.502922e+06      3.224533     107.856867               71.220667   \n",
      "std    2.892534e+05      3.391020      31.981975               16.758716   \n",
      "min    1.000038e+06      0.000000      44.000000               24.000000   \n",
      "25%    1.252866e+06      0.000000      84.000000               58.000000   \n",
      "50%    1.505508e+06      2.000000     104.000000               72.000000   \n",
      "75%    1.755205e+06      6.000000     129.000000               85.000000   \n",
      "max    1.999997e+06     14.000000     192.000000              117.000000   \n",
      "\n",
      "       TricepsThickness  SerumInsulin           BMI  DiabetesPedigree  \\\n",
      "count      15000.000000  15000.000000  15000.000000      15000.000000   \n",
      "mean          28.814000    137.852133     31.509646          0.398968   \n",
      "std           14.555716    133.068252      9.759000          0.377944   \n",
      "min            7.000000     14.000000     18.200512          0.078044   \n",
      "25%           15.000000     39.000000     21.259887          0.137743   \n",
      "50%           31.000000     83.000000     31.767940          0.200297   \n",
      "75%           41.000000    195.000000     39.259692          0.616285   \n",
      "max           93.000000    799.000000     56.034628          2.301594   \n",
      "\n",
      "                Age      Diabetic  \n",
      "count  15000.000000  15000.000000  \n",
      "mean      30.137733      0.333333  \n",
      "std       12.089703      0.471420  \n",
      "min       21.000000      0.000000  \n",
      "25%       22.000000      0.000000  \n",
      "50%       24.000000      0.000000  \n",
      "75%       35.000000      1.000000  \n",
      "max       77.000000      1.000000  \n"
     ]
    }
   ],
   "execution_count": 42
  },
  {
   "metadata": {
    "ExecuteTime": {
     "end_time": "2025-03-23T18:16:01.002995Z",
     "start_time": "2025-03-23T18:16:00.995814Z"
    }
   },
   "cell_type": "code",
   "source": "df_cleaned.columns",
   "id": "45025df79042f90f",
   "outputs": [
    {
     "data": {
      "text/plain": [
       "Index(['PatientID', 'Pregnancies', 'PlasmaGlucose', 'DiastolicBloodPressure',\n",
       "       'TricepsThickness', 'SerumInsulin', 'BMI', 'DiabetesPedigree', 'Age',\n",
       "       'Diabetic'],\n",
       "      dtype='object')"
      ]
     },
     "execution_count": 43,
     "metadata": {},
     "output_type": "execute_result"
    }
   ],
   "execution_count": 43
  },
  {
   "metadata": {
    "ExecuteTime": {
     "end_time": "2025-03-23T18:16:01.091974Z",
     "start_time": "2025-03-23T18:16:01.056758Z"
    }
   },
   "cell_type": "code",
   "source": [
    "print(f\"origin rows count: {df.shape[0]}\")\n",
    "\n",
    "def remove_outliers_iqr(df):\n",
    "    numeric_cols = df.select_dtypes(include=['float64', 'int64']).columns\n",
    "    numeric_cols = [col for col in numeric_cols if col not in [\"Age\", \"PatientID\", \"Pregnancies\", \"Diabetic\"]]\n",
    "    for col in numeric_cols:\n",
    "        Q1 = df[col].quantile(0.25)\n",
    "        Q3 = df[col].quantile(0.75)\n",
    "        IQR = Q3 - Q1\n",
    "        \n",
    "        lower_bound = Q1 - 1 * IQR\n",
    "        upper_bound = Q3 + 1 * IQR\n",
    "        \n",
    "        df = df[(df[col] >= lower_bound) & (df[col] <= upper_bound)]\n",
    "        \n",
    "        print(f\"{col}: there are {df.shape[0]} rows after removing outliers.\")\n",
    "    \n",
    "    return df\n",
    "\n",
    "df_cleaned = df.copy()\n",
    "\n",
    "df_cleaned = remove_outliers_iqr(df_cleaned)\n",
    "\n",
    "print(f\"Final rows count: {df_cleaned.shape[0]}\")"
   ],
   "id": "e6dcd90806f0c677",
   "outputs": [
    {
     "name": "stdout",
     "output_type": "stream",
     "text": [
      "origin rows count: 15000\n",
      "PlasmaGlucose: there are 14683 rows after removing outliers.\n",
      "DiastolicBloodPressure: there are 14539 rows after removing outliers.\n",
      "TricepsThickness: there are 14473 rows after removing outliers.\n",
      "SerumInsulin: there are 13453 rows after removing outliers.\n",
      "BMI: there are 13453 rows after removing outliers.\n",
      "DiabetesPedigree: there are 12680 rows after removing outliers.\n",
      "Final rows count: 12680\n"
     ]
    }
   ],
   "execution_count": 44
  },
  {
   "metadata": {
    "ExecuteTime": {
     "end_time": "2025-03-23T18:16:01.134228Z",
     "start_time": "2025-03-23T18:16:01.124657Z"
    }
   },
   "cell_type": "code",
   "source": [
    "# Remove abnormal pregnancies values\n",
    "print(f\"Rows count before cleaning: {df_cleaned.shape[0]}\")\n",
    "df_cleaned = df_cleaned[df_cleaned['Pregnancies'] <= (df_cleaned['Age'] - 18)]\n",
    "print(f\"Rows count after cleaning: {df_cleaned.shape[0]}\")"
   ],
   "id": "790bae2d10fe7134",
   "outputs": [
    {
     "name": "stdout",
     "output_type": "stream",
     "text": [
      "Rows count before cleaning: 12680\n",
      "Rows count after cleaning: 10471\n"
     ]
    }
   ],
   "execution_count": 45
  },
  {
   "metadata": {
    "ExecuteTime": {
     "end_time": "2025-03-23T18:16:01.264661Z",
     "start_time": "2025-03-23T18:16:01.185017Z"
    }
   },
   "cell_type": "code",
   "source": "df_cleaned.to_csv('data/clean_TAIPEI_diabetes.csv', index=False, columns=list(df_cleaned.columns))",
   "id": "ea4a9e7cd252c47a",
   "outputs": [],
   "execution_count": 46
  }
 ],
 "metadata": {
  "kernelspec": {
   "display_name": "Python 3 (ipykernel)",
   "language": "python",
   "name": "python3"
  },
  "language_info": {
   "codemirror_mode": {
    "name": "ipython",
    "version": 3
   },
   "file_extension": ".py",
   "mimetype": "text/x-python",
   "name": "python",
   "nbconvert_exporter": "python",
   "pygments_lexer": "ipython3",
   "version": "3.11.7"
  }
 },
 "nbformat": 4,
 "nbformat_minor": 5
}
